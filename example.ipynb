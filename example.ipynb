{
 "cells": [
  {
   "cell_type": "code",
   "execution_count": 26,
   "id": "7a63444f-a9f5-45b1-b883-64d438613fcc",
   "metadata": {},
   "outputs": [],
   "source": [
    "import dask\n",
    "from dask.distributed import Client\n",
    "from dask_jobqueue import SLURMCluster\n",
    "from dask.distributed import progress"
   ]
  },
  {
   "cell_type": "code",
   "execution_count": 27,
   "id": "ef7768b3-eb8c-4812-a4bb-c5b2bc7303de",
   "metadata": {},
   "outputs": [
    {
     "name": "stderr",
     "output_type": "stream",
     "text": [
      "/home/vol01/scarf1041/programs/miniconda3/envs/py39/lib/python3.9/site-packages/distributed/node.py:160: UserWarning: Port 8787 is already in use.\n",
      "Perhaps you already have a cluster running?\n",
      "Hosting the HTTP server on port 41176 instead\n",
      "  warnings.warn(\n"
     ]
    }
   ],
   "source": [
    "SCARF_CONFIG = {\n",
    "    'queue': 'scarf',\n",
    "    'cores': 24,\n",
    "    'memory': '128GB',\n",
    "}\n",
    "\n",
    "# create a cluster\n",
    "cluster = SLURMCluster(**SCARF_CONFIG)\n",
    "\n",
    "# connect a client and scale to 10 workers\n",
    "client = Client(cluster)\n",
    "cluster.scale(20)"
   ]
  },
  {
   "cell_type": "code",
   "execution_count": 28,
   "id": "d7dc70f2-a40d-4d23-a616-7018d22aaaa8",
   "metadata": {},
   "outputs": [
    {
     "data": {
      "application/vnd.jupyter.widget-view+json": {
       "model_id": "16dd4f851a6b4d079d5a419aac43b342",
       "version_major": 2,
       "version_minor": 0
      },
      "text/plain": [
       "Tab(children=(HTML(value='<div class=\"jp-RenderedHTMLCommon jp-RenderedHTML jp-mod-trusted jp-OutputArea-outpu…"
      ]
     },
     "metadata": {},
     "output_type": "display_data"
    }
   ],
   "source": [
    "cluster"
   ]
  },
  {
   "cell_type": "code",
   "execution_count": 29,
   "id": "caf34982-ccb2-449b-bfab-ffa382235344",
   "metadata": {},
   "outputs": [],
   "source": [
    "import time\n",
    "import socket\n",
    "import os\n",
    "\n",
    "def do_work():\n",
    "    time.sleep(0.1)\n",
    "    process_id = os.getpid()\n",
    "    hostname = socket.gethostname()\n",
    "    return f'{hostname}_{process_id}'"
   ]
  },
  {
   "cell_type": "code",
   "execution_count": 36,
   "id": "bcfc805c-768e-4102-8c56-a37a1a81ac32",
   "metadata": {},
   "outputs": [
    {
     "data": {
      "text/plain": [
       "'ui4.scarf.rl.ac.uk_1674336'"
      ]
     },
     "execution_count": 36,
     "metadata": {},
     "output_type": "execute_result"
    }
   ],
   "source": [
    "# run locally\n",
    "do_work()"
   ]
  },
  {
   "cell_type": "code",
   "execution_count": 37,
   "id": "459319e0-e727-4ea7-bdbd-e1a5a66056b4",
   "metadata": {},
   "outputs": [],
   "source": [
    "delayed_work = dask.delayed(do_work)()"
   ]
  },
  {
   "cell_type": "code",
   "execution_count": 38,
   "id": "329ec88a-8b9b-46ca-82a7-4ddbb70945ee",
   "metadata": {},
   "outputs": [
    {
     "data": {
      "text/plain": [
       "Delayed('do_work-ac24284a-65f6-4b19-8c5a-ec8aa29d1a4d')"
      ]
     },
     "execution_count": 38,
     "metadata": {},
     "output_type": "execute_result"
    }
   ],
   "source": [
    "delayed_work"
   ]
  },
  {
   "cell_type": "code",
   "execution_count": 39,
   "id": "51968bb1-5bca-4750-950d-bddbbf34cbc8",
   "metadata": {},
   "outputs": [
    {
     "data": {
      "text/plain": [
       "'cn804.scarf.rl.ac.uk_115708'"
      ]
     },
     "execution_count": 39,
     "metadata": {},
     "output_type": "execute_result"
    }
   ],
   "source": [
    "# work is done on the cluster when the compute() method is called\n",
    "delayed_work.compute()"
   ]
  },
  {
   "cell_type": "code",
   "execution_count": 40,
   "id": "9e708a90-6b5c-40ac-9330-eddc1e313f35",
   "metadata": {},
   "outputs": [],
   "source": [
    "from datetime import datetime"
   ]
  },
  {
   "cell_type": "code",
   "execution_count": 41,
   "id": "26d855ad-353e-4d26-96c2-010645ecbd53",
   "metadata": {},
   "outputs": [],
   "source": [
    "# local\n",
    "results = []\n",
    "\n",
    "t0 = datetime.now()\n",
    "for i in range(100):\n",
    "    result = do_work()\n",
    "    results.append(result)\n",
    "t1 = datetime.now()\n",
    "\n",
    "time_taken = (t1 - t0).total_seconds()"
   ]
  },
  {
   "cell_type": "code",
   "execution_count": 42,
   "id": "f261c41d-179d-47da-983a-b798ed11b0cb",
   "metadata": {},
   "outputs": [
    {
     "name": "stdout",
     "output_type": "stream",
     "text": [
      "time taken (1 cpu): 10.02 s\n"
     ]
    }
   ],
   "source": [
    "print(f'time taken (1 cpu): {time_taken:.2f} s')"
   ]
  },
  {
   "cell_type": "code",
   "execution_count": 43,
   "id": "1c65d4b5-d431-4b4a-be75-08c4cfc685b5",
   "metadata": {},
   "outputs": [],
   "source": [
    "# distributed\n",
    "results = []\n",
    "\n",
    "t0 = datetime.now()\n",
    "for i in range(100):\n",
    "    result = dask.delayed(do_work)()\n",
    "    results.append(result)\n",
    "\n",
    "results = dask.compute(*results)\n",
    "t1 = datetime.now()\n",
    "\n",
    "time_taken = (t1 - t0).total_seconds()\n",
    "number_of_unique_hosts = len(set([result.split('_')[0] for result in results]))\n",
    "number_of_unique_processes = len(set(results))"
   ]
  },
  {
   "cell_type": "code",
   "execution_count": 44,
   "id": "aa1c5865-192b-4572-9de7-4dd0b694fde4",
   "metadata": {},
   "outputs": [
    {
     "name": "stdout",
     "output_type": "stream",
     "text": [
      "time taken (distributed): 0.31 s\n",
      "number of unique hosts: 4\n",
      "number of unique processes: 24\n"
     ]
    }
   ],
   "source": [
    "print(f'time taken (distributed): {time_taken:.2f} s')\n",
    "print(f'number of unique hosts: {number_of_unique_hosts}')\n",
    "print(f'number of unique processes: {number_of_unique_processes}')"
   ]
  }
 ],
 "metadata": {
  "kernelspec": {
   "display_name": "Python 3 (ipykernel)",
   "language": "python",
   "name": "python3"
  },
  "language_info": {
   "codemirror_mode": {
    "name": "ipython",
    "version": 3
   },
   "file_extension": ".py",
   "mimetype": "text/x-python",
   "name": "python",
   "nbconvert_exporter": "python",
   "pygments_lexer": "ipython3",
   "version": "3.9.6"
  }
 },
 "nbformat": 4,
 "nbformat_minor": 5
}
